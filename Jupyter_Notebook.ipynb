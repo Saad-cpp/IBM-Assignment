{
 "cells": [
  {
   "cell_type": "markdown",
   "metadata": {},
   "source": [
    "<center>\n",
    "    <img src=\"https://cf-courses-data.s3.us.cloud-object-storage.appdomain.cloud/IBMDeveloperSkillsNetwork-DS0105EN-SkillsNetwork/labs/Module2/images/SN_web_lightmode.png\" width=\"300\" alt=\"cognitiveclass.ai logo\">\n",
    "</center>\n"
   ]
  },
  {
   "cell_type": "markdown",
   "metadata": {},
   "source": [
    "#### Add your code below following the instructions given in the course\n"
   ]
  },
  {
   "cell_type": "markdown",
   "metadata": {},
   "source": [
    "# My Jupyter Notebook On IBM Watson Studio"
   ]
  },
  {
   "cell_type": "markdown",
   "metadata": {},
   "source": [
    "## Saad Ahmed\n",
    "AI engineer"
   ]
  },
  {
   "cell_type": "markdown",
   "metadata": {},
   "source": [
    "_I am interested in data science because I want to work in Artificial Intelligence field. Artificial Intelligences is a really exciting field for me._"
   ]
  },
  {
   "cell_type": "markdown",
   "metadata": {},
   "source": [
    "### My code will print numbers from 1 to 10"
   ]
  },
  {
   "cell_type": "code",
   "execution_count": 6,
   "metadata": {},
   "outputs": [
    {
     "name": "stdout",
     "output_type": "stream",
     "text": [
      "1\n",
      "2\n",
      "3\n",
      "4\n",
      "5\n",
      "6\n",
      "7\n",
      "8\n",
      "9\n",
      "10\n"
     ]
    }
   ],
   "source": [
    "i = 1\n",
    "while i<=10:\n",
    "    print(i)\n",
    "    i += 1"
   ]
  },
  {
   "cell_type": "markdown",
   "metadata": {},
   "source": [
    "~This is a strike through~\n",
    "\n",
    "<ul>\n",
    "    <li>Unordered List item 1</li>\n",
    "    <li>Unordered List item 2</li>\n",
    "    <li>Unordered List item 3</li>\n",
    "    <li>Unordered List item 4</li>\n",
    " </ul>\n",
    "    \n",
    "<ol>\n",
    "    <li>Ordered List item 1</li>\n",
    "    <li>Ordered List item 2</li>\n",
    "    <li>Ordered List item 3</li>\n",
    "    <li>Ordered List item 4</li>\n",
    "</ol>\n",
    "\n",
    "<a href=#>Dead link</a>\n",
    "\n",
    "<img src=\"https://th.bing.com/th/id/R.187dc1d4754a757b934a5d4a9289e28a?rik=7BoYlrEx9s3zJQ&pid=ImgRaw&r=0\" alt=\"cat pic\" sizes=\"(max-width: 20px) 30px,20px\"/>"
   ]
  },
  {
   "cell_type": "code",
   "execution_count": null,
   "metadata": {},
   "outputs": [],
   "source": []
  }
 ],
 "metadata": {
  "kernelspec": {
   "display_name": "Python",
   "language": "python",
   "name": "conda-env-python-py"
  },
  "language_info": {
   "codemirror_mode": {
    "name": "ipython",
    "version": 3
   },
   "file_extension": ".py",
   "mimetype": "text/x-python",
   "name": "python",
   "nbconvert_exporter": "python",
   "pygments_lexer": "ipython3",
   "version": "3.7.12"
  }
 },
 "nbformat": 4,
 "nbformat_minor": 4
}
