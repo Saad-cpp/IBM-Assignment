{
 "cells": [
  {
   "cell_type": "markdown",
   "id": "bd34c335-c12e-466a-8d19-7754fa36a46e",
   "metadata": {},
   "source": [
    "# Data Science Tools and Ecosystem"
   ]
  },
  {
   "cell_type": "markdown",
   "id": "9b7ca01f-e3eb-43d1-9537-cb05bbdcc0e1",
   "metadata": {},
   "source": [
    "In this notebook, Data Science Tools and Ecosystem are summarized."
   ]
  },
  {
   "cell_type": "markdown",
   "id": "d5d17b49-574b-4542-8165-c3996d80ab52",
   "metadata": {},
   "source": [
    "<ol>\n",
    "    <li>Python</li>\n",
    "    <li>R</li>\n",
    "    <li>SQL</li>\n",
    "    <li>Scala</li>\n",
    "    </ol>"
   ]
  },
  {
   "cell_type": "markdown",
   "id": "d50690a8-a8a9-410e-897b-ff61e4d87ce5",
   "metadata": {},
   "source": [
    "<ol>\n",
    "    <li>Pandas</li>\n",
    "    <li>Matplotlib</li>\n",
    "    <li>TensorFlow</li>\n",
    "    <li>Scikit-learn</li>\n",
    "    <li>Scipy</li>\n",
    "    </ol>"
   ]
  },
  {
   "cell_type": "markdown",
   "id": "4c27eff6-530b-47eb-8ab2-3d03a25f5d97",
   "metadata": {},
   "source": [
    "DS Tools |\n",
    "-------|\n",
    "IBM Watson Studio |\n",
    "Jupyter Notebooks |\n",
    "RStudio |"
   ]
  },
  {
   "cell_type": "markdown",
   "id": "febf1caf-7780-4cec-b242-4de8a7fb206b",
   "metadata": {},
   "source": [
    "### Below are a few examples of evaluating arithmetic expressions in Python"
   ]
  },
  {
   "cell_type": "code",
   "execution_count": 4,
   "id": "fba705f4-5858-4d7b-ba8f-59f19ff310dc",
   "metadata": {},
   "outputs": [
    {
     "data": {
      "text/plain": [
       "17"
      ]
     },
     "execution_count": 4,
     "metadata": {},
     "output_type": "execute_result"
    }
   ],
   "source": [
    "# This a simple arithmetic expression to mutiply then add integers\n",
    "(3*4)+5"
   ]
  },
  {
   "cell_type": "code",
   "execution_count": 5,
   "id": "19fc3bd5-b1db-45a0-9042-08832bfc65ba",
   "metadata": {},
   "outputs": [
    {
     "data": {
      "text/plain": [
       "3.3333333333333335"
      ]
     },
     "execution_count": 5,
     "metadata": {},
     "output_type": "execute_result"
    }
   ],
   "source": [
    "# This will convert 200 minutes to hours by diving by 60\n",
    "200/60"
   ]
  },
  {
   "cell_type": "markdown",
   "id": "b8feb3cb-6850-4481-83c3-0a022b3578be",
   "metadata": {},
   "source": [
    "**Objectives:**\n",
    "<ul>\n",
    "    <li>Popular Data science languages</li>\n",
    "    <li>Popular Data science Python libraries</li>\n",
    "    <li>Popular Data science Open Sources tools</li>\n",
    "    <li>Basic python expressions</li>\n",
    "    </ul>"
   ]
  },
  {
   "cell_type": "markdown",
   "id": "504e219b-9cb8-40a0-a89f-c863eb15a17e",
   "metadata": {},
   "source": [
    "## Author\n",
    "Saad Ahmad"
   ]
  },
  {
   "cell_type": "code",
   "execution_count": null,
   "id": "8d3e21a2-41ea-48e5-bdb9-8bf85a065bec",
   "metadata": {},
   "outputs": [],
   "source": []
  }
 ],
 "metadata": {
  "kernelspec": {
   "display_name": "Python",
   "language": "python",
   "name": "conda-env-python-py"
  },
  "language_info": {
   "codemirror_mode": {
    "name": "ipython",
    "version": 3
   },
   "file_extension": ".py",
   "mimetype": "text/x-python",
   "name": "python",
   "nbconvert_exporter": "python",
   "pygments_lexer": "ipython3",
   "version": "3.7.12"
  }
 },
 "nbformat": 4,
 "nbformat_minor": 5
}
